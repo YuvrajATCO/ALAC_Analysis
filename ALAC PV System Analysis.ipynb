{
 "cells": [
  {
   "cell_type": "code",
   "execution_count": 1,
   "metadata": {},
   "outputs": [],
   "source": [
    "#Historically, the only other power source at ALAC was gas which has been an off grid via storage tanks.\n",
    "#Biofuel came online mid-November and replaces the gas component of energy usage.\n",
    "#The Biofuel is contracted to deliver 90% of the water heating to the pool and air systems which previously ran on gas.\n",
    "\n",
    "# For how long Bio-Fuel Contract is ?\n",
    "\n",
    "\n",
    "#Comments\n",
    "\n",
    "# Can we replace Bio-Fuel with Electrolyser and Fuel Cell (Heat from the fuel cell will be used to heat the pool and and air systems?\n",
    "# Can we consider Electrolyser & Microturbine as alternative to Electrolyer and Fuel Cell and the Battery Storage?  "
   ]
  },
  {
   "cell_type": "code",
   "execution_count": 2,
   "metadata": {},
   "outputs": [],
   "source": [
    "import numpy as np\n",
    "import matplotlib.pyplot as plt\n",
    "import seaborn as sns\n",
    "import pandas as pd\n",
    "import os\n",
    "from os import path\n",
    "import time\n",
    "import datetime as dt"
   ]
  },
  {
   "cell_type": "code",
   "execution_count": 3,
   "metadata": {},
   "outputs": [],
   "source": [
    "os.chdir('C:\\\\Users\\\\ysingh\\\\Desktop\\\\')"
   ]
  },
  {
   "cell_type": "code",
   "execution_count": 27,
   "metadata": {},
   "outputs": [
    {
     "data": {
      "text/plain": [
       "Date_and_Time                       datetime64[ns]\n",
       "Energy Consumption (kWh)                    object\n",
       "Load Consumption (kW)                       object\n",
       "Solar Power Output 500 (kW)                float64\n",
       "Solar Power Output 600 (kW)                float64\n",
       "Solar Power Output 800 (kW)                float64\n",
       "Solar Power Output 1000 (kW)               float64\n",
       "Solar Power Output 500 (kWh)               float64\n",
       "Solar Power Output 600 (kWh)               float64\n",
       "Solar Power Output 800 (kWh)               float64\n",
       "Solar Power Output 1000 (kWh)              float64\n",
       "Battery Discharge Power 500 (kW)           float64\n",
       "Battery Discharge Power 800 (kW)           float64\n",
       "dtype: object"
      ]
     },
     "execution_count": 27,
     "metadata": {},
     "output_type": "execute_result"
    }
   ],
   "source": [
    "df =pd.read_excel('../Desktop/ALAC Energy Data/ALAC_Annual_Load_Data.xlsx')\n",
    "\n",
    "\n",
    "df.dtypes"
   ]
  },
  {
   "cell_type": "code",
   "execution_count": 28,
   "metadata": {},
   "outputs": [],
   "source": [
    "df['Date_and_Time'] = pd.to_datetime(df['Date_and_Time'], errors='ignore')\n",
    "df.set_index('Date_and_Time', inplace=True)"
   ]
  },
  {
   "cell_type": "code",
   "execution_count": 29,
   "metadata": {},
   "outputs": [
    {
     "data": {
      "text/plain": [
       "Energy Consumption (kWh)            float64\n",
       "Load Consumption (kW)               float64\n",
       "Solar Power Output 500 (kW)         float64\n",
       "Solar Power Output 600 (kW)         float64\n",
       "Solar Power Output 800 (kW)         float64\n",
       "Solar Power Output 1000 (kW)        float64\n",
       "Solar Power Output 500 (kWh)        float64\n",
       "Solar Power Output 600 (kWh)        float64\n",
       "Solar Power Output 800 (kWh)        float64\n",
       "Solar Power Output 1000 (kWh)       float64\n",
       "Battery Discharge Power 500 (kW)    float64\n",
       "Battery Discharge Power 800 (kW)    float64\n",
       "dtype: object"
      ]
     },
     "execution_count": 29,
     "metadata": {},
     "output_type": "execute_result"
    }
   ],
   "source": [
    "df['Energy Consumption (kWh)'] = pd.to_numeric(df['Energy Consumption (kWh)'], errors = 'coerce')\n",
    "df['Load Consumption (kW)']= pd.to_numeric(df['Load Consumption (kW)'], errors = 'coerce')\n",
    "df.dtypes"
   ]
  },
  {
   "cell_type": "markdown",
   "metadata": {},
   "source": [
    "Average hourly load profile of ALAC"
   ]
  },
  {
   "cell_type": "code",
   "execution_count": 30,
   "metadata": {},
   "outputs": [
    {
     "data": {
      "text/plain": [
       "count    17481.000000\n",
       "mean       197.223715\n",
       "std         47.938092\n",
       "min          9.980000\n",
       "25%        164.990000\n",
       "50%        194.180000\n",
       "75%        235.650000\n",
       "max        343.230000\n",
       "Name: Load Consumption (kW), dtype: float64"
      ]
     },
     "execution_count": 30,
     "metadata": {},
     "output_type": "execute_result"
    },
    {
     "data": {
      "image/png": "[encoded data removed]",
      "text/plain": [
       "<Figure size 1080x288 with 1 Axes>"
      ]
     },
     "metadata": {
      "needs_background": "light"
     },
     "output_type": "display_data"
    }
   ],
   "source": [
    "# This code is used the groupy the yearly data into average hourly data.\n",
    "df['Load Consumption (kW)'].groupby(df['Load Consumption (kW)'].index.hour).max().plot(kind='bar',figsize=(15,4),color='coral')  \n",
    "df['Load Consumption (kW)'].describe()"
   ]
  },
  {
   "cell_type": "markdown",
   "metadata": {},
   "source": [
    "500kw PV System "
   ]
  },
  {
   "cell_type": "code",
   "execution_count": 65,
   "metadata": {},
   "outputs": [
    {
     "ename": "SyntaxError",
     "evalue": "invalid syntax (<ipython-input-65-329c7d8f7d7f>, line 4)",
     "output_type": "error",
     "traceback": [
      "\u001b[1;36m  File \u001b[1;32m\"<ipython-input-65-329c7d8f7d7f>\"\u001b[1;36m, line \u001b[1;32m4\u001b[0m\n\u001b[1;33m    pv=pd.pivot_table(df['x', index = df['x'].index.month, columns=df.index.year,\u001b[0m\n\u001b[1;37m                                    ^\u001b[0m\n\u001b[1;31mSyntaxError\u001b[0m\u001b[1;31m:\u001b[0m invalid syntax\n"
     ]
    }
   ],
   "source": [
    "df['Load_Served_500kW']=(df['Load Consumption (kW)']-df['Solar Power Output 500 (kW)'])\n",
    "df['Final_Load_Served_500kW']=np.where(df['Load_Served_500kW']<0,0,df['Load_Served_500kW'])\n",
    "df['x']=df['Final_Load_Served_500kW'].groupby(df['Final_Load_Served_500kW'].index.hour).mean()\n"
   ]
  },
  {
   "cell_type": "code",
   "execution_count": 37,
   "metadata": {},
   "outputs": [
    {
     "data": {
      "text/plain": [
       "dtype('float64')"
      ]
     },
     "execution_count": 37,
     "metadata": {},
     "output_type": "execute_result"
    }
   ],
   "source": [
    "df['Final_Load_Served_500kW'].dtypes"
   ]
  },
  {
   "cell_type": "code",
   "execution_count": 66,
   "metadata": {},
   "outputs": [
    {
     "ename": "TypeError",
     "evalue": "'float' object is not iterable",
     "output_type": "error",
     "traceback": [
      "\u001b[1;31m---------------------------------------------------------------------------\u001b[0m",
      "\u001b[1;31mTypeError\u001b[0m                                 Traceback (most recent call last)",
      "\u001b[1;32m<ipython-input-66-15f4c3cee7d4>\u001b[0m in \u001b[0;36m<module>\u001b[1;34m\u001b[0m\n\u001b[0;32m     10\u001b[0m \u001b[0mdf\u001b[0m\u001b[1;33m[\u001b[0m\u001b[1;34m'Final_Load_Served_500kW'\u001b[0m\u001b[1;33m]\u001b[0m\u001b[1;33m.\u001b[0m\u001b[0mgroupby\u001b[0m\u001b[1;33m(\u001b[0m\u001b[0mdf\u001b[0m\u001b[1;33m[\u001b[0m\u001b[1;34m'Final_Load_Served_500kW'\u001b[0m\u001b[1;33m]\u001b[0m\u001b[1;33m.\u001b[0m\u001b[0mindex\u001b[0m\u001b[1;33m.\u001b[0m\u001b[0mhour\u001b[0m\u001b[1;33m)\u001b[0m\u001b[1;33m.\u001b[0m\u001b[0mmean\u001b[0m\u001b[1;33m(\u001b[0m\u001b[1;33m)\u001b[0m\u001b[1;31m#.plot(subplots=True,kind='bar',figsize=(15,4),color='coral')\u001b[0m\u001b[1;33m\u001b[0m\u001b[1;33m\u001b[0m\u001b[0m\n\u001b[0;32m     11\u001b[0m \u001b[1;31m#df['Final_Load_Served_500kW'].describe()\u001b[0m\u001b[1;33m\u001b[0m\u001b[1;33m\u001b[0m\u001b[1;33m\u001b[0m\u001b[0m\n\u001b[1;32m---> 12\u001b[1;33m \u001b[1;32mfor\u001b[0m \u001b[0mkey\u001b[0m\u001b[1;33m,\u001b[0m \u001b[0mgroup\u001b[0m \u001b[1;32min\u001b[0m \u001b[0mdf\u001b[0m\u001b[1;33m[\u001b[0m\u001b[1;34m'Final_Load_Served_500kW'\u001b[0m\u001b[1;33m]\u001b[0m\u001b[1;33m:\u001b[0m\u001b[1;33m\u001b[0m\u001b[1;33m\u001b[0m\u001b[0m\n\u001b[0m\u001b[0;32m     13\u001b[0m     \u001b[0mgroup\u001b[0m\u001b[1;33m.\u001b[0m\u001b[0mplot\u001b[0m\u001b[1;33m(\u001b[0m\u001b[1;33m)\u001b[0m\u001b[1;33m\u001b[0m\u001b[1;33m\u001b[0m\u001b[0m\n",
      "\u001b[1;31mTypeError\u001b[0m: 'float' object is not iterable"
     ]
    }
   ],
   "source": [
    "# Using the 500kW PV System the avergae load between 7am and 5pm decreases as it can be seen in the following image.\n",
    "#Unit of the data are kW\n",
    "\n",
    "df['Load_Served_500kW']=df['Load Consumption (kW)']-df['Solar Power Output 500 (kW)']\n",
    "\n",
    "\n",
    "\n",
    "df['Final_Load_Served_500kW']=np.where(df['Load_Served_500kW']<0,0,df['Load_Served_500kW'])\n",
    "\n",
    "df['Final_Load_Served_500kW'].groupby(df['Final_Load_Served_500kW'].index.hour).mean()#.plot(subplots=True,kind='bar',figsize=(15,4),color='coral')  \n",
    "#df['Final_Load_Served_500kW'].describe()\n",
    "for key, group in df['Final_Load_Served_500kW']:\n",
    "    group.plot()\n"
   ]
  },
  {
   "cell_type": "code",
   "execution_count": 59,
   "metadata": {},
   "outputs": [
    {
     "data": {
      "text/plain": [
       "126560.22999999998"
      ]
     },
     "execution_count": 59,
     "metadata": {},
     "output_type": "execute_result"
    }
   ],
   "source": [
    "\n",
    "#500kW PV System Capital cost $300,000\n",
    "#Saving produced from 500kW System\n",
    "\n",
    "Grid = 311852.93\n",
    "FiveHundredkW = 185292.7\n",
    "Annualsavings = Grid-FiveHundredkW\n",
    "Annualsavings"
   ]
  },
  {
   "cell_type": "code",
   "execution_count": 11,
   "metadata": {},
   "outputs": [
    {
     "data": {
      "text/plain": [
       "-18.230363159817347"
      ]
     },
     "execution_count": 11,
     "metadata": {},
     "output_type": "execute_result"
    }
   ],
   "source": [
    "#Excess energy available from 500kW PV system that could be stored in the battery.\n",
    "\n",
    "df['Excess_Energy_500kW']=np.where(df['Load_Served_500kW']<0,df['Load_Served_500kW'],0)\n",
    "#df['Excess_Energy_500kW'].groupby(df['Excess_Energy_500kW'].index.hour).mean().plot(kind='bar',figsize=(15,4),color='coral')\n",
    "df['Excess_Energy_500kW'].mean()#.resample('Y').sum()\n",
    " "
   ]
  },
  {
   "cell_type": "markdown",
   "metadata": {},
   "source": [
    "500kW PV System + Battery Storage"
   ]
  },
  {
   "cell_type": "code",
   "execution_count": 12,
   "metadata": {},
   "outputs": [
    {
     "data": {
      "text/plain": [
       "count    17481.000000\n",
       "mean       115.347568\n",
       "std         88.106283\n",
       "min          0.000000\n",
       "25%          0.000000\n",
       "50%        135.170000\n",
       "75%        180.800000\n",
       "max        340.860000\n",
       "Name: Final_Load_Served_500kW + Battery, dtype: float64"
      ]
     },
     "execution_count": 12,
     "metadata": {},
     "output_type": "execute_result"
    },
    {
     "data": {
      "image/png": "[encoded data removed]",
      "text/plain": [
       "<Figure size 1080x288 with 1 Axes>"
      ]
     },
     "metadata": {
      "needs_background": "light"
     },
     "output_type": "display_data"
    }
   ],
   "source": [
    "#500kW System + Battery Storage \n",
    "\n",
    "df['Load_Served_500kW + Battery']=df['Load Consumption (kW)']-df['Solar Power Output 500 (kW)']-df['Battery Discharge Power 500 (kW)']\n",
    "df['Final_Load_Served_500kW + Battery']= np.where(df['Load_Served_500kW + Battery']<0,0,df['Load_Served_500kW + Battery'])\n",
    "df['Final_Load_Served_500kW + Battery'].groupby(df['Final_Load_Served_500kW + Battery'].index.hour).mean().plot(kind='bar',figsize=(15,4),color='coral')  \n",
    "df['Final_Load_Served_500kW + Battery'].describe()"
   ]
  },
  {
   "cell_type": "code",
   "execution_count": 13,
   "metadata": {},
   "outputs": [
    {
     "data": {
      "text/plain": [
       "153408.53"
      ]
     },
     "execution_count": 13,
     "metadata": {},
     "output_type": "execute_result"
    }
   ],
   "source": [
    "\n",
    "#500kW PV System + Battery System Capital cost $1,233,657\n",
    "#Saving produced from 500kW System + Battery System\n",
    "\n",
    "Grid = 311852.93\n",
    "FiveHundredkWplusBattery = 158444.4\n",
    "Annualsavings = Grid-FiveHundredkWplusBattery \n",
    "Annualsavings"
   ]
  },
  {
   "cell_type": "markdown",
   "metadata": {},
   "source": [
    "Combined System"
   ]
  },
  {
   "cell_type": "code",
   "execution_count": 14,
   "metadata": {},
   "outputs": [
    {
     "data": {
      "text/html": [
       "<div>\n",
       "<style scoped>\n",
       "    .dataframe tbody tr th:only-of-type {\n",
       "        vertical-align: middle;\n",
       "    }\n",
       "\n",
       "    .dataframe tbody tr th {\n",
       "        vertical-align: top;\n",
       "    }\n",
       "\n",
       "    .dataframe thead th {\n",
       "        text-align: right;\n",
       "    }\n",
       "</style>\n",
       "<table border=\"1\" class=\"dataframe\">\n",
       "  <thead>\n",
       "    <tr style=\"text-align: right;\">\n",
       "      <th></th>\n",
       "      <th>Final_Load_Served_500kW + Battery</th>\n",
       "      <th>Final_Load_Served_500kW</th>\n",
       "      <th>Load Consumption (kW)</th>\n",
       "    </tr>\n",
       "  </thead>\n",
       "  <tbody>\n",
       "    <tr>\n",
       "      <th>count</th>\n",
       "      <td>17481.000000</td>\n",
       "      <td>17481.000000</td>\n",
       "      <td>17481.000000</td>\n",
       "    </tr>\n",
       "    <tr>\n",
       "      <th>mean</th>\n",
       "      <td>115.347568</td>\n",
       "      <td>129.750662</td>\n",
       "      <td>197.223715</td>\n",
       "    </tr>\n",
       "    <tr>\n",
       "      <th>std</th>\n",
       "      <td>88.106283</td>\n",
       "      <td>82.157707</td>\n",
       "      <td>47.938092</td>\n",
       "    </tr>\n",
       "    <tr>\n",
       "      <th>min</th>\n",
       "      <td>0.000000</td>\n",
       "      <td>0.000000</td>\n",
       "      <td>9.980000</td>\n",
       "    </tr>\n",
       "    <tr>\n",
       "      <th>25%</th>\n",
       "      <td>0.000000</td>\n",
       "      <td>63.027900</td>\n",
       "      <td>164.990000</td>\n",
       "    </tr>\n",
       "    <tr>\n",
       "      <th>50%</th>\n",
       "      <td>135.170000</td>\n",
       "      <td>145.600000</td>\n",
       "      <td>194.180000</td>\n",
       "    </tr>\n",
       "    <tr>\n",
       "      <th>75%</th>\n",
       "      <td>180.800000</td>\n",
       "      <td>185.600000</td>\n",
       "      <td>235.650000</td>\n",
       "    </tr>\n",
       "    <tr>\n",
       "      <th>max</th>\n",
       "      <td>340.860000</td>\n",
       "      <td>340.860000</td>\n",
       "      <td>343.230000</td>\n",
       "    </tr>\n",
       "  </tbody>\n",
       "</table>\n",
       "</div>"
      ],
      "text/plain": [
       "       Final_Load_Served_500kW + Battery  Final_Load_Served_500kW  \\\n",
       "count                       17481.000000             17481.000000   \n",
       "mean                          115.347568               129.750662   \n",
       "std                            88.106283                82.157707   \n",
       "min                             0.000000                 0.000000   \n",
       "25%                             0.000000                63.027900   \n",
       "50%                           135.170000               145.600000   \n",
       "75%                           180.800000               185.600000   \n",
       "max                           340.860000               340.860000   \n",
       "\n",
       "       Load Consumption (kW)  \n",
       "count           17481.000000  \n",
       "mean              197.223715  \n",
       "std                47.938092  \n",
       "min                 9.980000  \n",
       "25%               164.990000  \n",
       "50%               194.180000  \n",
       "75%               235.650000  \n",
       "max               343.230000  "
      ]
     },
     "execution_count": 14,
     "metadata": {},
     "output_type": "execute_result"
    },
    {
     "data": {
      "image/png": "[encoded data removed]",
      "text/plain": [
       "<Figure size 1080x288 with 1 Axes>"
      ]
     },
     "metadata": {
      "needs_background": "light"
     },
     "output_type": "display_data"
    }
   ],
   "source": [
    "data = pd.DataFrame(\n",
    "data = df[['Final_Load_Served_500kW + Battery','Final_Load_Served_500kW','Load Consumption (kW)']]\n",
    ")\n",
    "data.groupby(data.index.hour).mean().plot(kind='bar',figsize=(15,4))\n",
    "data.describe()\n"
   ]
  },
  {
   "cell_type": "markdown",
   "metadata": {},
   "source": [
    "800kW System "
   ]
  },
  {
   "cell_type": "code",
   "execution_count": 15,
   "metadata": {},
   "outputs": [
    {
     "data": {
      "text/plain": [
       "count    17481.000000\n",
       "mean       117.861686\n",
       "std         87.368465\n",
       "min          0.000000\n",
       "25%          0.000000\n",
       "50%        136.000000\n",
       "75%        181.820000\n",
       "max        340.860000\n",
       "Name: Final_Load_Served_800kW, dtype: float64"
      ]
     },
     "execution_count": 15,
     "metadata": {},
     "output_type": "execute_result"
    },
    {
     "data": {
      "image/png": "[encoded data removed]",
      "text/plain": [
       "<Figure size 1080x288 with 1 Axes>"
      ]
     },
     "metadata": {
      "needs_background": "light"
     },
     "output_type": "display_data"
    }
   ],
   "source": [
    "#800kW System anlasyis\n",
    "df['Load_Served_800kW']=df['Load Consumption (kW)']-df['Solar Power Output 800 (kW)']\n",
    "df['Final_Load_Served_800kW']=np.where(df['Load_Served_800kW']<0,0,df['Load_Served_800kW'])\n",
    "df['Final_Load_Served_800kW'].groupby(df['Final_Load_Served_800kW'].index.hour).mean().plot(kind='bar',figsize=(15,4),color='coral')  \n",
    "df['Final_Load_Served_800kW'].describe()"
   ]
  },
  {
   "cell_type": "markdown",
   "metadata": {},
   "source": [
    "800kW PV System + Battery Storage System"
   ]
  },
  {
   "cell_type": "code",
   "execution_count": 16,
   "metadata": {},
   "outputs": [
    {
     "data": {
      "text/plain": [
       "count    17481.000000\n",
       "mean        84.924022\n",
       "std         89.814317\n",
       "min          0.000000\n",
       "25%          0.000000\n",
       "50%         51.852600\n",
       "75%        169.410000\n",
       "max        340.860000\n",
       "Name: Final_Load_Served_800kW + Battery, dtype: float64"
      ]
     },
     "execution_count": 16,
     "metadata": {},
     "output_type": "execute_result"
    },
    {
     "data": {
      "image/png": "[encoded data removed]",
      "text/plain": [
       "<Figure size 1080x288 with 1 Axes>"
      ]
     },
     "metadata": {
      "needs_background": "light"
     },
     "output_type": "display_data"
    }
   ],
   "source": [
    "df['Load_Served_800kW + Battery']=df['Load Consumption (kW)']-df['Solar Power Output 800 (kW)']-df['Battery Discharge Power 800 (kW)']\n",
    "df['Final_Load_Served_800kW + Battery']= np.where(df['Load_Served_800kW + Battery']<0,0,df['Load_Served_800kW + Battery'])\n",
    "df['Final_Load_Served_800kW + Battery'].groupby(df['Final_Load_Served_800kW + Battery'].index.hour).mean().plot(kind='bar',figsize=(15,4),color='coral')  \n",
    "df['Final_Load_Served_800kW + Battery'].describe()"
   ]
  },
  {
   "cell_type": "markdown",
   "metadata": {},
   "source": [
    "Combined System"
   ]
  },
  {
   "cell_type": "code",
   "execution_count": 17,
   "metadata": {},
   "outputs": [
    {
     "data": {
      "text/html": [
       "<div>\n",
       "<style scoped>\n",
       "    .dataframe tbody tr th:only-of-type {\n",
       "        vertical-align: middle;\n",
       "    }\n",
       "\n",
       "    .dataframe tbody tr th {\n",
       "        vertical-align: top;\n",
       "    }\n",
       "\n",
       "    .dataframe thead th {\n",
       "        text-align: right;\n",
       "    }\n",
       "</style>\n",
       "<table border=\"1\" class=\"dataframe\">\n",
       "  <thead>\n",
       "    <tr style=\"text-align: right;\">\n",
       "      <th></th>\n",
       "      <th>Final_Load_Served_800kW + Battery</th>\n",
       "      <th>Final_Load_Served_800kW</th>\n",
       "      <th>Load Consumption (kW)</th>\n",
       "    </tr>\n",
       "  </thead>\n",
       "  <tbody>\n",
       "    <tr>\n",
       "      <th>count</th>\n",
       "      <td>17481.000000</td>\n",
       "      <td>17481.000000</td>\n",
       "      <td>17481.000000</td>\n",
       "    </tr>\n",
       "    <tr>\n",
       "      <th>mean</th>\n",
       "      <td>84.924022</td>\n",
       "      <td>117.861686</td>\n",
       "      <td>197.223715</td>\n",
       "    </tr>\n",
       "    <tr>\n",
       "      <th>std</th>\n",
       "      <td>89.814317</td>\n",
       "      <td>87.368465</td>\n",
       "      <td>47.938092</td>\n",
       "    </tr>\n",
       "    <tr>\n",
       "      <th>min</th>\n",
       "      <td>0.000000</td>\n",
       "      <td>0.000000</td>\n",
       "      <td>9.980000</td>\n",
       "    </tr>\n",
       "    <tr>\n",
       "      <th>25%</th>\n",
       "      <td>0.000000</td>\n",
       "      <td>0.000000</td>\n",
       "      <td>164.990000</td>\n",
       "    </tr>\n",
       "    <tr>\n",
       "      <th>50%</th>\n",
       "      <td>51.852600</td>\n",
       "      <td>136.000000</td>\n",
       "      <td>194.180000</td>\n",
       "    </tr>\n",
       "    <tr>\n",
       "      <th>75%</th>\n",
       "      <td>169.410000</td>\n",
       "      <td>181.820000</td>\n",
       "      <td>235.650000</td>\n",
       "    </tr>\n",
       "    <tr>\n",
       "      <th>max</th>\n",
       "      <td>340.860000</td>\n",
       "      <td>340.860000</td>\n",
       "      <td>343.230000</td>\n",
       "    </tr>\n",
       "  </tbody>\n",
       "</table>\n",
       "</div>"
      ],
      "text/plain": [
       "       Final_Load_Served_800kW + Battery  Final_Load_Served_800kW  \\\n",
       "count                       17481.000000             17481.000000   \n",
       "mean                           84.924022               117.861686   \n",
       "std                            89.814317                87.368465   \n",
       "min                             0.000000                 0.000000   \n",
       "25%                             0.000000                 0.000000   \n",
       "50%                            51.852600               136.000000   \n",
       "75%                           169.410000               181.820000   \n",
       "max                           340.860000               340.860000   \n",
       "\n",
       "       Load Consumption (kW)  \n",
       "count           17481.000000  \n",
       "mean              197.223715  \n",
       "std                47.938092  \n",
       "min                 9.980000  \n",
       "25%               164.990000  \n",
       "50%               194.180000  \n",
       "75%               235.650000  \n",
       "max               343.230000  "
      ]
     },
     "execution_count": 17,
     "metadata": {},
     "output_type": "execute_result"
    },
    {
     "data": {
      "image/png": "[encoded data removed]",
      "text/plain": [
       "<Figure size 1080x288 with 1 Axes>"
      ]
     },
     "metadata": {
      "needs_background": "light"
     },
     "output_type": "display_data"
    }
   ],
   "source": [
    "data = pd.DataFrame(\n",
    "data = df[['Final_Load_Served_800kW + Battery','Final_Load_Served_800kW','Load Consumption (kW)']]\n",
    ")\n",
    "data.groupby(data.index.hour).mean().plot(kind='bar',figsize=(15,4))\n",
    "data.describe()\n"
   ]
  },
  {
   "cell_type": "code",
   "execution_count": 18,
   "metadata": {
    "scrolled": true
   },
   "outputs": [
    {
     "ename": "TypeError",
     "evalue": "__init__() got an unexpected keyword argument 'data1'",
     "output_type": "error",
     "traceback": [
      "\u001b[1;31m---------------------------------------------------------------------------\u001b[0m",
      "\u001b[1;31mTypeError\u001b[0m                                 Traceback (most recent call last)",
      "\u001b[1;32m<ipython-input-18-fd6c576afd0f>\u001b[0m in \u001b[0;36m<module>\u001b[1;34m\u001b[0m\n\u001b[0;32m      1\u001b[0m data = pd.DataFrame(\n\u001b[1;32m----> 2\u001b[1;33m \u001b[0mdata1\u001b[0m\u001b[1;33m=\u001b[0m\u001b[0mdf\u001b[0m\u001b[1;33m[\u001b[0m\u001b[1;33m[\u001b[0m\u001b[1;34m'Energy Consumption (kWh)'\u001b[0m\u001b[1;33m,\u001b[0m\u001b[1;34m'Solar Power Output 500 (kWh)'\u001b[0m\u001b[1;33m]\u001b[0m\u001b[1;33m]\u001b[0m\u001b[1;31m#,'Solar Power Output 600 (kWh)']]#,\u001b[0m\u001b[1;33m\u001b[0m\u001b[1;33m\u001b[0m\u001b[0m\n\u001b[0m\u001b[0;32m      3\u001b[0m        \u001b[1;31m#'Battery Discharge Power (kWh)']],\u001b[0m\u001b[1;33m\u001b[0m\u001b[1;33m\u001b[0m\u001b[1;33m\u001b[0m\u001b[0m\n\u001b[0;32m      4\u001b[0m )\n\u001b[0;32m      5\u001b[0m \u001b[1;33m\u001b[0m\u001b[0m\n",
      "\u001b[1;31mTypeError\u001b[0m: __init__() got an unexpected keyword argument 'data1'"
     ]
    }
   ],
   "source": [
    "data = pd.DataFrame(\n",
    "data1=df[['Energy Consumption (kWh)','Solar Power Output 500 (kWh)']]#,'Solar Power Output 600 (kWh)']]#,\n",
    "       #'Battery Discharge Power (kWh)']],\n",
    ")\n",
    "\n",
    "data.resample('D').sum().plot(figsize=(15,4),kind='bar')#,subplots=True)\n",
    "\n",
    "plt.xlabel('Months')\n",
    "plt.ylabel('Energy (kWh)')\n",
    "\n",
    "data.resample('D').sum().mean()"
   ]
  },
  {
   "cell_type": "code",
   "execution_count": null,
   "metadata": {},
   "outputs": [],
   "source": [
    "#data.resample('D').sum().plot(figsize=(15,4),subplots=True)"
   ]
  },
  {
   "cell_type": "code",
   "execution_count": null,
   "metadata": {},
   "outputs": [],
   "source": [
    "# It is not a constant load and due to fluctuations in the energy produced by PV we would definately require battery storage.\n",
    "# Peak energy consumption of ALAC is from 5 am and 10pm (3.71MWh) whereas daily energy consumption "
   ]
  },
  {
   "cell_type": "code",
   "execution_count": null,
   "metadata": {
    "scrolled": true
   },
   "outputs": [],
   "source": [
    "#Daytime Energy Consumption Vs Daily Solar Power Prodcuction\n",
    "# \n",
    "\n",
    "data.between_time('08:00','16:00').resample('D').sum().plot(figsize=(15,4),title='Daily Solar Production Vs Daily Energy Consumption (kWh)',\n",
    "                                                           kind='bar')\n",
    "\n",
    "plt.xlabel('Months')\n",
    "plt.ylabel('Energy (kWh)')\n",
    "\n",
    "data.between_time('08:00','16:00').resample('D').sum().mean()"
   ]
  },
  {
   "cell_type": "markdown",
   "metadata": {},
   "source": [
    "Daytime energy consumption ALAC"
   ]
  },
  {
   "cell_type": "code",
   "execution_count": null,
   "metadata": {
    "scrolled": false
   },
   "outputs": [],
   "source": [
    "#data['Daytime_Energy_Consumption (kWh)'] = data['Energy Consumption (kWh)'].between_time('08:00','17:00')\n",
    "#data['Daytime_Energy_Consumption (kWh)'].resample('D').sum().plot(kind='bar',figsize=(15,4),color='C')\n",
    "#data['Daytime_Energy_Consumption (kWh)'].resample('D').sum().mean()"
   ]
  },
  {
   "cell_type": "code",
   "execution_count": null,
   "metadata": {},
   "outputs": [],
   "source": [
    " #data['Daytime_Energy_Consumption (kWh)'].groupby(data['Daytime_Energy_Consumption (kWh)'].index.hour).mean().plot(kind ='bar',\n",
    "                                                                                             #color='C',title='Average Hourly Energy Consumption (MWh)')\n"
   ]
  },
  {
   "cell_type": "markdown",
   "metadata": {},
   "source": [
    "Daily PV Production 500kW"
   ]
  },
  {
   "cell_type": "code",
   "execution_count": null,
   "metadata": {},
   "outputs": [],
   "source": [
    "#data['Daily_PV_Production 500 (KWh)']= data['Solar Power Output 500 (kWh)'].between_time('08:00','17:00')\n",
    "#data['Daily_PV_Production 500 (KWh)'].resample('D').sum().plot(kind='bar',color='coral',figsize=(15,4))\n",
    "\n",
    "# Average daytime energy consumption between 8am to 5pm\n",
    "#data['Daily_PV_Production 500 (KWh)'].resample('D').sum().mean()"
   ]
  },
  {
   "cell_type": "code",
   "execution_count": null,
   "metadata": {},
   "outputs": [],
   "source": [
    "#data['Daily_PV_Production 500 (KWh)'].groupby(data['Daily_PV_Production 500 (KWh)'].index.hour).mean().plot(kind ='bar',\n",
    "                                                                                        #color = 'C', title='Average Hourly Energy Consumption (MWh)')\n"
   ]
  },
  {
   "cell_type": "markdown",
   "metadata": {},
   "source": [
    "Battery Storage Energy"
   ]
  },
  {
   "cell_type": "code",
   "execution_count": null,
   "metadata": {},
   "outputs": [],
   "source": [
    "#data['Battery Discharge Power (kWh)'].resample('D').sum().plot(color='B',figsize=(15,4))\n",
    "#data['Battery Discharge Power (kWh)'].resample('D').sum().mean()\n"
   ]
  },
  {
   "cell_type": "code",
   "execution_count": null,
   "metadata": {},
   "outputs": [],
   "source": [
    "#data['Battery Discharge Power (kWh)'].groupby(data['Battery Discharge Power (kWh)'].index.hour).mean().plot(kind ='bar',\n",
    "                                                       #color = 'C', title='Battery Discharge Power (kWh)')\n",
    "#plt.xlabel('Hours')\n",
    "#plt.ylabel('Energy (kWh)')"
   ]
  },
  {
   "cell_type": "code",
   "execution_count": null,
   "metadata": {},
   "outputs": [],
   "source": [
    "#data['Daily_PV_Production 600 (KWh)']= data['Solar Power Output 600 (kWh)'].between_time('08:00','17:00')\n",
    "#data['Daily_PV_Production 600 (KWh)'].resample('D').sum().plot(color='coral',figsize=(15,4))\n",
    "# Average daytime energy consumption between 8am to 5pm\n",
    "#data['Daily_PV_Production 600 (KWh)'].resample('D').sum().mean()"
   ]
  },
  {
   "cell_type": "code",
   "execution_count": null,
   "metadata": {
    "scrolled": true
   },
   "outputs": [],
   "source": [
    "#Plot for Daytime energy consumption Vs Daily PV production\n",
    "#data.plot(y=[\"Daytime_Energy_Consumption (kWh)\",\"Daily_PV_Production (KWh)\"],figsize=(15,4))"
   ]
  },
  {
   "cell_type": "code",
   "execution_count": null,
   "metadata": {},
   "outputs": [],
   "source": [
    "data['Load_Served']= data['Energy Consumption (kWh)']-data['Solar Power Output 500 (kWh)']\n",
    "data['Final_Load_Served']=np.where(data['Load_Served']<0,0,data['Load_Served'])\n",
    "data['Final_Load_Served'].plot(figsize=(15,4),color='coral')                           \n",
    "#data['Load_Served'].resample('D').sum().plot(figsize=(15,4),color='coral')\n",
    "#data['Load_Served'].groupby(lambda x: x.hour).mean().plot(kind ='bar',color='c')"
   ]
  },
  {
   "cell_type": "code",
   "execution_count": null,
   "metadata": {},
   "outputs": [],
   "source": [
    "plt.plot(y='Final_Load_Served','Energy Consumption (kWh')"
   ]
  },
  {
   "cell_type": "markdown",
   "metadata": {},
   "source": [
    "Excess energy available throughout the year"
   ]
  },
  {
   "cell_type": "code",
   "execution_count": null,
   "metadata": {},
   "outputs": [],
   "source": [
    "# Excess energy available per year would be 159MWh which could be met by 1.5MWh battery storage but it will be only \n",
    "#feasible during Summer but in Winter would not be much effective so during the winter Microtrubines can be used that could also be used \n",
    "# to heat the pool.\n",
    "\n",
    "\n",
    "df['Difference_1']=np.where(data['Difference']<0,data['Difference']*(-1),0)\n",
    "df['Difference_1'].resample('D').sum().plot(figsize=(15,4),title='Excess Energy per day (kWh)',kind='bar',color='C')\n",
    "\n",
    "plt.xlabel('Months')\n",
    "plt.ylabel('Energy (kwh)')\n",
    "df['Difference_1'].resample('Y').sum()#.max()"
   ]
  },
  {
   "cell_type": "code",
   "execution_count": null,
   "metadata": {},
   "outputs": [],
   "source": [
    "\n",
    "#df['Difference'] = np.where(data['Solar Power Output (kWh)']>0,data['Daytime_Energy_Consumption (kWh)']-data['Solar Power Output (kWh)'],\n",
    "                          # 0)\n",
    "#df['Difference'].resample('D').sum()#.plot(figsize=(15,4),title='Energy Difference per day (kWh)')\n",
    "\n",
    "#plt.xlabel('Months')\n",
    "#plt.ylabel('Energy (kwh)')"
   ]
  }
 ],
 "metadata": {
  "kernelspec": {
   "display_name": "Python 3",
   "language": "python",
   "name": "python3"
  },
  "language_info": {
   "codemirror_mode": {
    "name": "ipython",
    "version": 3
   },
   "file_extension": ".py",
   "mimetype": "text/x-python",
   "name": "python",
   "nbconvert_exporter": "python",
   "pygments_lexer": "ipython3",
   "version": "3.6.8"
  }
 },
 "nbformat": 4,
 "nbformat_minor": 2
}
